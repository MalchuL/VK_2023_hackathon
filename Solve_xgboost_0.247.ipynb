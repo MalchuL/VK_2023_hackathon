{
 "cells": [
  {
   "cell_type": "code",
   "execution_count": 25,
   "id": "c8398c91-45f7-435e-b027-2bba92ebdb28",
   "metadata": {},
   "outputs": [],
   "source": [
    "from xgboost import XGBClassifier\n",
    "import xgboost\n",
    "import pandas as pd\n",
    "import numpy as np\n",
    "from tqdm import tqdm\n",
    "from matplotlib import pyplot as plt\n",
    "from scipy import stats"
   ]
  },
  {
   "cell_type": "code",
   "execution_count": 26,
   "id": "a8c9df28-7285-4240-834f-03702b17eeaf",
   "metadata": {},
   "outputs": [],
   "source": [
    "def preprocess_base_feature(df_or_path):\n",
    "    if isinstance(df_or_path, str):\n",
    "        df_or_path = pd.read_csv(df_or_path)\n",
    "    df = df_or_path\n",
    "    df['mean_degree'] = (df['u_degree'] + df['u_degree']).mean()   \n",
    "    X = df.drop([\"Unnamed: 0\"], axis=1)\n",
    "    return X\n",
    "\n",
    "def preprocess_attributes(df_or_path):\n",
    "\n",
    "    if isinstance(df_or_path, str):\n",
    "        df_or_path = pd.read_csv(df_or_path)\n",
    "    df = df_or_path\n",
    "    df['sex_similar'] = df['sex_u'] == df['sex_v']\n",
    "    df['age_diff'] = (df['age_u'] - df['age_v']).abs()\n",
    "    X = df.drop([\"Unnamed: 0\"], axis=1)\n",
    "    return X\n",
    "\n",
    "def load_train_data(foler_base, folder_attr, path_list, return_indexes=False, split=1):\n",
    "    X_list = []\n",
    "    y_list = []\n",
    "    indexes_list = []\n",
    "    for path in tqdm(path_list):\n",
    "        X_base = preprocess_base_feature(os.path.join(foler_base, path))\n",
    "        X_attr = preprocess_attributes(os.path.join(folder_attr, path))\n",
    "        rich_X = X_base.merge(X_attr, on=['ego_id', 'u', 'v'])\n",
    "\n",
    "        rich_X = rich_X.sample(frac = split)\n",
    "        X = rich_X.drop([\"ego_id\", 'x1', 'u', 'v'], axis=1)\n",
    "        \n",
    "        \n",
    "        names = X.columns.values.tolist()\n",
    "        X = np.array(X.values).astype(np.float32)\n",
    "        y = rich_X['x1']\n",
    "        X_list.append(X)\n",
    "        y_list.append(y)\n",
    "        if return_indexes:\n",
    "            indexes_list.append(rich_X[['ego_id', 'u','v']])\n",
    "    X = np.concatenate(X_list, axis=0)\n",
    "\n",
    "    X[:,0] = np.log(X[:,0] + 10)\n",
    "    X[:,4] = np.log(X[:,4] + 10)\n",
    "    X[:,5] = np.log(X[:,5] + 10)\n",
    "    X[:,11] = np.log(X[:,11] + 10)\n",
    "    X[:,12] = np.log(X[:,12] + 10)\n",
    "    X[:,15] = np.log(X[:,15] + 10)\n",
    "    X[:,16] = np.log(X[:,16] + 10)\n",
    "    X[:,24] = np.log(X[:,24] + 10)\n",
    "    \n",
    "    y = np.concatenate(y_list, axis=0)\n",
    "    if return_indexes:\n",
    "        return X, y, names, pd.concat(indexes_list)\n",
    "    return X, y, names"
   ]
  },
  {
   "cell_type": "code",
   "execution_count": 27,
   "id": "81600d32-3f83-453e-9dc5-9bf0c013ac2a",
   "metadata": {},
   "outputs": [
    {
     "name": "stderr",
     "output_type": "stream",
     "text": [
      "100%|█████████████████████████████████████████████████████████████████████████████████████████████████████████████████████████████████████████████████████████████████████████████████████████| 30000/30000 [08:23<00:00, 59.60it/s]\n",
      "100%|███████████████████████████████████████████████████████████████████████████████████████████████████████████████████████████████████████████████████████████████████████████████████████████| 3000/3000 [01:07<00:00, 44.56it/s]\n"
     ]
    }
   ],
   "source": [
    "import os\n",
    "CSV_DIR = \"updated_train\"\n",
    "CSV_ATTR_DIR = \"train_csv\"\n",
    "train_count = 30000\n",
    "test_count = 3000\n",
    "train_files = os.listdir(CSV_DIR)[:train_count]\n",
    "\n",
    "train_X, train_y, train_names = load_train_data(CSV_DIR, CSV_ATTR_DIR, train_files, split=0.1)\n",
    "test_X, test_y, test_names = load_train_data(\"updated_train\", \"train_csv\", os.listdir(CSV_DIR)[train_count:train_count + test_count])"
   ]
  },
  {
   "cell_type": "code",
   "execution_count": 29,
   "id": "10726215-a4f9-4a4f-8abb-8407b36a5d7e",
   "metadata": {},
   "outputs": [],
   "source": [
    "np.save(\"train_X.npy\", train_X, allow_pickle=True, fix_imports=True)\n",
    "np.save(\"train_y.npy\", train_y, allow_pickle=True, fix_imports=True)\n",
    "np.save(\"test_X.npy\", test_X, allow_pickle=True, fix_imports=True)\n",
    "np.save(\"test_y.npy\", test_y, allow_pickle=True, fix_imports=True)\n",
    "# train_X = np.load(\"train_X.npy\")\n",
    "# train_y = np.load(\"train_y.npy\")\n",
    "# test_X = np.load(\"test_X.npy\")\n",
    "# test_y = np.load(\"test_y.npy\")"
   ]
  },
  {
   "cell_type": "code",
   "execution_count": null,
   "id": "7c500e8c-4acf-4102-ab01-82273b9f811c",
   "metadata": {},
   "outputs": [],
   "source": [
    "\n",
    "\n"
   ]
  },
  {
   "cell_type": "code",
   "execution_count": 15,
   "id": "470142be-83b9-46e9-9856-bc14c6907b97",
   "metadata": {},
   "outputs": [],
   "source": []
  },
  {
   "cell_type": "code",
   "execution_count": 16,
   "id": "8f1c399a-9828-44c0-8f45-2e3ffd8ac317",
   "metadata": {},
   "outputs": [],
   "source": []
  },
  {
   "cell_type": "code",
   "execution_count": 30,
   "id": "e0b883da-f51f-48b0-9abe-bd5ec62d0b4e",
   "metadata": {},
   "outputs": [
    {
     "data": {
      "text/plain": [
       "array([[4.5716133, 0.       , 0.       , ..., 0.       , 1.       ,\n",
       "        2.3978953],\n",
       "       [3.7424202, 0.       , 0.       , ..., 0.       , 1.       ,\n",
       "        2.6390574],\n",
       "       [4.597138 , 0.       , 0.       , ..., 0.       , 0.       ,\n",
       "              nan],\n",
       "       ...,\n",
       "       [4.0036902, 0.       , 0.       , ..., 0.       , 0.       ,\n",
       "              nan],\n",
       "       [4.0036902, 0.       , 0.       , ..., 0.       , 0.       ,\n",
       "              nan],\n",
       "       [      nan, 0.       , 0.       , ..., 0.       , 1.       ,\n",
       "        2.7725887]], dtype=float32)"
      ]
     },
     "execution_count": 30,
     "metadata": {},
     "output_type": "execute_result"
    }
   ],
   "source": [
    "test_X"
   ]
  },
  {
   "cell_type": "markdown",
   "id": "fa6af524-ff08-46e7-8bba-f7c4296f05d7",
   "metadata": {},
   "source": [
    "## EDA"
   ]
  },
  {
   "cell_type": "code",
   "execution_count": 81,
   "id": "9860466f-ce81-4690-96ac-67fe109cf4d2",
   "metadata": {},
   "outputs": [],
   "source": [
    "df = pd.DataFrame(np.concatenate([train_X, train_y[:,None]], axis=1), columns = train_names + ['x1'])[['t',\n",
    " 'x1',\n",
    "'x2',\n",
    " 'x3',\n",
    " 'density',\n",
    " 'u_degree',\n",
    " 'v_degree',\n",
    " 'u_closeness',\n",
    " 'v_closeness',\n",
    " 'u_betweenness',\n",
    " 'v_betweenness',\n",
    " 'adamic',\n",
    " 'edge_betweenness',\n",
    " 'mean_degree']]"
   ]
  },
  {
   "cell_type": "code",
   "execution_count": 21,
   "id": "3d8629e7-940d-4f24-83ed-47fd93e17b47",
   "metadata": {},
   "outputs": [
    {
     "data": {
      "text/plain": [
       "(0, 25)"
      ]
     },
     "execution_count": 21,
     "metadata": {},
     "output_type": "execute_result"
    }
   ],
   "source": [
    "train_X.shape"
   ]
  },
  {
   "cell_type": "markdown",
   "id": "0effaf41-878b-4774-b3fd-70d9e7b5eb1a",
   "metadata": {
    "scrolled": true
   },
   "source": [
    "\n",
    "\n",
    "for column in train_names:\n",
    "    print(column)\n",
    "    x = df[['x1']].to_numpy().squeeze()\n",
    "    y = df[[column]].to_numpy().squeeze()\n",
    "    mask = ~np.isnan(x) & ~np.isnan(y) \n",
    "    x = x[mask]\n",
    "    y = y[mask]\n",
    "    print(x.shape, y.shape)\n",
    "    plt.scatter(x,y)\n",
    "    plt.show()\n",
    "plt.figure()\n",
    "plt.scatter(train_y[~np.isnan(train_y)], bins=100)"
   ]
  },
  {
   "cell_type": "code",
   "execution_count": null,
   "id": "49485436-d0fc-443a-a94f-08facc22dfca",
   "metadata": {},
   "outputs": [],
   "source": []
  },
  {
   "cell_type": "code",
   "execution_count": 40,
   "id": "be39e298-a7f7-401b-a47b-62232adabd9e",
   "metadata": {},
   "outputs": [
    {
     "data": {
      "text/plain": [
       "array([0., 0., 0., ..., 0., 0., 0.])"
      ]
     },
     "execution_count": 40,
     "metadata": {},
     "output_type": "execute_result"
    }
   ],
   "source": []
  },
  {
   "cell_type": "code",
   "execution_count": 13,
   "id": "c706476b-e43a-44c1-b50f-1a21f12ba3cb",
   "metadata": {},
   "outputs": [],
   "source": [
    "# #for tuning parameters\n",
    "# parameters_for_testing = {\n",
    "#    'colsample_bytree':[0.4,0.6,0.8],\n",
    "#    'gamma':[0,0.03,0.1,0.3],\n",
    "#    'min_child_weight':[1.5,6,10],\n",
    "#    'learning_rate':[0.1,0.07],\n",
    "#    'max_depth':[3,5],\n",
    "#    'n_estimators':[10000],\n",
    "#    'reg_alpha':[1e-5, 1e-2,  0.75],\n",
    "#    'reg_lambda':[1e-5, 1e-2, 0.45],\n",
    "#    'subsample':[0.6,0.95]  \n",
    "# }"
   ]
  },
  {
   "cell_type": "code",
   "execution_count": 36,
   "id": "3d4d5e40-63fe-43eb-9263-5c51efc6ad8b",
   "metadata": {},
   "outputs": [
    {
     "name": "stdout",
     "output_type": "stream",
     "text": [
      "[0]\tvalidation_0-rmse:1.18226\n",
      "[1]\tvalidation_0-rmse:1.05463\n",
      "[2]\tvalidation_0-rmse:0.96356\n",
      "[3]\tvalidation_0-rmse:0.89964\n",
      "[4]\tvalidation_0-rmse:0.85575\n",
      "[5]\tvalidation_0-rmse:0.82576\n",
      "[6]\tvalidation_0-rmse:0.80522\n",
      "[7]\tvalidation_0-rmse:0.79136\n",
      "[8]\tvalidation_0-rmse:0.78192\n",
      "[9]\tvalidation_0-rmse:0.77483\n",
      "[10]\tvalidation_0-rmse:0.76963\n",
      "[11]\tvalidation_0-rmse:0.76587\n",
      "[12]\tvalidation_0-rmse:0.76346\n",
      "[13]\tvalidation_0-rmse:0.76137\n",
      "[14]\tvalidation_0-rmse:0.75963\n",
      "[15]\tvalidation_0-rmse:0.75762\n",
      "[16]\tvalidation_0-rmse:0.75683\n",
      "[17]\tvalidation_0-rmse:0.75585\n",
      "[18]\tvalidation_0-rmse:0.75510\n",
      "[19]\tvalidation_0-rmse:0.75386\n",
      "[20]\tvalidation_0-rmse:0.75292\n",
      "[21]\tvalidation_0-rmse:0.75228\n",
      "[22]\tvalidation_0-rmse:0.75176\n",
      "[23]\tvalidation_0-rmse:0.75122\n",
      "[24]\tvalidation_0-rmse:0.75089\n",
      "[25]\tvalidation_0-rmse:0.75053\n",
      "[26]\tvalidation_0-rmse:0.75024\n",
      "[27]\tvalidation_0-rmse:0.75008\n",
      "[28]\tvalidation_0-rmse:0.74968\n",
      "[29]\tvalidation_0-rmse:0.74931\n",
      "[30]\tvalidation_0-rmse:0.74919\n",
      "[31]\tvalidation_0-rmse:0.74908\n",
      "[32]\tvalidation_0-rmse:0.74886\n",
      "[33]\tvalidation_0-rmse:0.74866\n",
      "[34]\tvalidation_0-rmse:0.74854\n",
      "[35]\tvalidation_0-rmse:0.74842\n",
      "[36]\tvalidation_0-rmse:0.74833\n",
      "[37]\tvalidation_0-rmse:0.74824\n",
      "[38]\tvalidation_0-rmse:0.74818\n",
      "[39]\tvalidation_0-rmse:0.74806\n",
      "[40]\tvalidation_0-rmse:0.74800\n",
      "[41]\tvalidation_0-rmse:0.74799\n",
      "[42]\tvalidation_0-rmse:0.74792\n",
      "[43]\tvalidation_0-rmse:0.74783\n",
      "[44]\tvalidation_0-rmse:0.74780\n",
      "[45]\tvalidation_0-rmse:0.74774\n",
      "[46]\tvalidation_0-rmse:0.74774\n",
      "[47]\tvalidation_0-rmse:0.74760\n",
      "[48]\tvalidation_0-rmse:0.74750\n",
      "[49]\tvalidation_0-rmse:0.74739\n",
      "[50]\tvalidation_0-rmse:0.74736\n",
      "[51]\tvalidation_0-rmse:0.74729\n",
      "[52]\tvalidation_0-rmse:0.74724\n",
      "[53]\tvalidation_0-rmse:0.74720\n",
      "[54]\tvalidation_0-rmse:0.74716\n",
      "[55]\tvalidation_0-rmse:0.74708\n",
      "[56]\tvalidation_0-rmse:0.74704\n",
      "[57]\tvalidation_0-rmse:0.74701\n",
      "[58]\tvalidation_0-rmse:0.74695\n",
      "[59]\tvalidation_0-rmse:0.74688\n",
      "[60]\tvalidation_0-rmse:0.74685\n",
      "[61]\tvalidation_0-rmse:0.74682\n",
      "[62]\tvalidation_0-rmse:0.74674\n",
      "[63]\tvalidation_0-rmse:0.74672\n",
      "[64]\tvalidation_0-rmse:0.74673\n",
      "[65]\tvalidation_0-rmse:0.74670\n",
      "[66]\tvalidation_0-rmse:0.74661\n",
      "[67]\tvalidation_0-rmse:0.74661\n",
      "[68]\tvalidation_0-rmse:0.74660\n",
      "[69]\tvalidation_0-rmse:0.74654\n",
      "[70]\tvalidation_0-rmse:0.74650\n",
      "[71]\tvalidation_0-rmse:0.74651\n",
      "[72]\tvalidation_0-rmse:0.74648\n",
      "[73]\tvalidation_0-rmse:0.74639\n",
      "[74]\tvalidation_0-rmse:0.74634\n",
      "[75]\tvalidation_0-rmse:0.74633\n",
      "[76]\tvalidation_0-rmse:0.74633\n",
      "[77]\tvalidation_0-rmse:0.74631\n",
      "[78]\tvalidation_0-rmse:0.74627\n",
      "[79]\tvalidation_0-rmse:0.74622\n",
      "[80]\tvalidation_0-rmse:0.74619\n",
      "[81]\tvalidation_0-rmse:0.74616\n",
      "[82]\tvalidation_0-rmse:0.74605\n",
      "[83]\tvalidation_0-rmse:0.74606\n",
      "[84]\tvalidation_0-rmse:0.74605\n",
      "[85]\tvalidation_0-rmse:0.74604\n",
      "[86]\tvalidation_0-rmse:0.74602\n",
      "[87]\tvalidation_0-rmse:0.74602\n",
      "[88]\tvalidation_0-rmse:0.74600\n",
      "[89]\tvalidation_0-rmse:0.74594\n",
      "[90]\tvalidation_0-rmse:0.74593\n",
      "[91]\tvalidation_0-rmse:0.74587\n",
      "[92]\tvalidation_0-rmse:0.74584\n",
      "[93]\tvalidation_0-rmse:0.74587\n",
      "[94]\tvalidation_0-rmse:0.74586\n",
      "[95]\tvalidation_0-rmse:0.74578\n",
      "[96]\tvalidation_0-rmse:0.74573\n",
      "[97]\tvalidation_0-rmse:0.74569\n",
      "[98]\tvalidation_0-rmse:0.74568\n",
      "[99]\tvalidation_0-rmse:0.74567\n"
     ]
    },
    {
     "data": {
      "text/html": [
       "<style>#sk-container-id-5 {color: black;background-color: white;}#sk-container-id-5 pre{padding: 0;}#sk-container-id-5 div.sk-toggleable {background-color: white;}#sk-container-id-5 label.sk-toggleable__label {cursor: pointer;display: block;width: 100%;margin-bottom: 0;padding: 0.3em;box-sizing: border-box;text-align: center;}#sk-container-id-5 label.sk-toggleable__label-arrow:before {content: \"▸\";float: left;margin-right: 0.25em;color: #696969;}#sk-container-id-5 label.sk-toggleable__label-arrow:hover:before {color: black;}#sk-container-id-5 div.sk-estimator:hover label.sk-toggleable__label-arrow:before {color: black;}#sk-container-id-5 div.sk-toggleable__content {max-height: 0;max-width: 0;overflow: hidden;text-align: left;background-color: #f0f8ff;}#sk-container-id-5 div.sk-toggleable__content pre {margin: 0.2em;color: black;border-radius: 0.25em;background-color: #f0f8ff;}#sk-container-id-5 input.sk-toggleable__control:checked~div.sk-toggleable__content {max-height: 200px;max-width: 100%;overflow: auto;}#sk-container-id-5 input.sk-toggleable__control:checked~label.sk-toggleable__label-arrow:before {content: \"▾\";}#sk-container-id-5 div.sk-estimator input.sk-toggleable__control:checked~label.sk-toggleable__label {background-color: #d4ebff;}#sk-container-id-5 div.sk-label input.sk-toggleable__control:checked~label.sk-toggleable__label {background-color: #d4ebff;}#sk-container-id-5 input.sk-hidden--visually {border: 0;clip: rect(1px 1px 1px 1px);clip: rect(1px, 1px, 1px, 1px);height: 1px;margin: -1px;overflow: hidden;padding: 0;position: absolute;width: 1px;}#sk-container-id-5 div.sk-estimator {font-family: monospace;background-color: #f0f8ff;border: 1px dotted black;border-radius: 0.25em;box-sizing: border-box;margin-bottom: 0.5em;}#sk-container-id-5 div.sk-estimator:hover {background-color: #d4ebff;}#sk-container-id-5 div.sk-parallel-item::after {content: \"\";width: 100%;border-bottom: 1px solid gray;flex-grow: 1;}#sk-container-id-5 div.sk-label:hover label.sk-toggleable__label {background-color: #d4ebff;}#sk-container-id-5 div.sk-serial::before {content: \"\";position: absolute;border-left: 1px solid gray;box-sizing: border-box;top: 0;bottom: 0;left: 50%;z-index: 0;}#sk-container-id-5 div.sk-serial {display: flex;flex-direction: column;align-items: center;background-color: white;padding-right: 0.2em;padding-left: 0.2em;position: relative;}#sk-container-id-5 div.sk-item {position: relative;z-index: 1;}#sk-container-id-5 div.sk-parallel {display: flex;align-items: stretch;justify-content: center;background-color: white;position: relative;}#sk-container-id-5 div.sk-item::before, #sk-container-id-5 div.sk-parallel-item::before {content: \"\";position: absolute;border-left: 1px solid gray;box-sizing: border-box;top: 0;bottom: 0;left: 50%;z-index: -1;}#sk-container-id-5 div.sk-parallel-item {display: flex;flex-direction: column;z-index: 1;position: relative;background-color: white;}#sk-container-id-5 div.sk-parallel-item:first-child::after {align-self: flex-end;width: 50%;}#sk-container-id-5 div.sk-parallel-item:last-child::after {align-self: flex-start;width: 50%;}#sk-container-id-5 div.sk-parallel-item:only-child::after {width: 0;}#sk-container-id-5 div.sk-dashed-wrapped {border: 1px dashed gray;margin: 0 0.4em 0.5em 0.4em;box-sizing: border-box;padding-bottom: 0.4em;background-color: white;}#sk-container-id-5 div.sk-label label {font-family: monospace;font-weight: bold;display: inline-block;line-height: 1.2em;}#sk-container-id-5 div.sk-label-container {text-align: center;}#sk-container-id-5 div.sk-container {/* jupyter's `normalize.less` sets `[hidden] { display: none; }` but bootstrap.min.css set `[hidden] { display: none !important; }` so we also need the `!important` here to be able to override the default hidden behavior on the sphinx rendered scikit-learn.org. See: https://github.com/scikit-learn/scikit-learn/issues/21755 */display: inline-block !important;position: relative;}#sk-container-id-5 div.sk-text-repr-fallback {display: none;}</style><div id=\"sk-container-id-5\" class=\"sk-top-container\"><div class=\"sk-text-repr-fallback\"><pre>XGBRegressor(base_score=None, booster=None, callbacks=None,\n",
       "             colsample_bylevel=None, colsample_bynode=None,\n",
       "             colsample_bytree=None, early_stopping_rounds=None,\n",
       "             enable_categorical=False, eval_metric=[&#x27;rmse&#x27;], feature_types=None,\n",
       "             gamma=0, gpu_id=None, grow_policy=None, importance_type=None,\n",
       "             interaction_constraints=None, learning_rate=0.2, max_bin=None,\n",
       "             max_cat_threshold=None, max_cat_to_onehot=None,\n",
       "             max_delta_step=None, max_depth=7, max_leaves=None,\n",
       "             min_child_weight=None, missing=nan, monotone_constraints=None,\n",
       "             n_estimators=100, n_jobs=None, num_parallel_tree=None,\n",
       "             predictor=None, random_state=None, ...)</pre><b>In a Jupyter environment, please rerun this cell to show the HTML representation or trust the notebook. <br />On GitHub, the HTML representation is unable to render, please try loading this page with nbviewer.org.</b></div><div class=\"sk-container\" hidden><div class=\"sk-item\"><div class=\"sk-estimator sk-toggleable\"><input class=\"sk-toggleable__control sk-hidden--visually\" id=\"sk-estimator-id-5\" type=\"checkbox\" checked><label for=\"sk-estimator-id-5\" class=\"sk-toggleable__label sk-toggleable__label-arrow\">XGBRegressor</label><div class=\"sk-toggleable__content\"><pre>XGBRegressor(base_score=None, booster=None, callbacks=None,\n",
       "             colsample_bylevel=None, colsample_bynode=None,\n",
       "             colsample_bytree=None, early_stopping_rounds=None,\n",
       "             enable_categorical=False, eval_metric=[&#x27;rmse&#x27;], feature_types=None,\n",
       "             gamma=0, gpu_id=None, grow_policy=None, importance_type=None,\n",
       "             interaction_constraints=None, learning_rate=0.2, max_bin=None,\n",
       "             max_cat_threshold=None, max_cat_to_onehot=None,\n",
       "             max_delta_step=None, max_depth=7, max_leaves=None,\n",
       "             min_child_weight=None, missing=nan, monotone_constraints=None,\n",
       "             n_estimators=100, n_jobs=None, num_parallel_tree=None,\n",
       "             predictor=None, random_state=None, ...)</pre></div></div></div></div></div>"
      ],
      "text/plain": [
       "XGBRegressor(base_score=None, booster=None, callbacks=None,\n",
       "             colsample_bylevel=None, colsample_bynode=None,\n",
       "             colsample_bytree=None, early_stopping_rounds=None,\n",
       "             enable_categorical=False, eval_metric=['rmse'], feature_types=None,\n",
       "             gamma=0, gpu_id=None, grow_policy=None, importance_type=None,\n",
       "             interaction_constraints=None, learning_rate=0.2, max_bin=None,\n",
       "             max_cat_threshold=None, max_cat_to_onehot=None,\n",
       "             max_delta_step=None, max_depth=7, max_leaves=None,\n",
       "             min_child_weight=None, missing=nan, monotone_constraints=None,\n",
       "             n_estimators=100, n_jobs=None, num_parallel_tree=None,\n",
       "             predictor=None, random_state=None, ...)"
      ]
     },
     "execution_count": 36,
     "metadata": {},
     "output_type": "execute_result"
    }
   ],
   "source": [
    "best_xgb_model = xgboost.XGBRegressor(\n",
    "                 gamma=0,                \n",
    "                 learning_rate=0.2,\n",
    "                 max_depth=7,\n",
    "                 n_estimators=100,\n",
    "                 seed=42,\n",
    "                 eval_metric=['rmse'],\n",
    "                 #sampling_method='gradient_based',\n",
    "                 objective='reg:squarederror')\n",
    "\n",
    "best_xgb_model.fit(train_X,train_y, eval_set=[(test_X, test_y)])"
   ]
  },
  {
   "cell_type": "code",
   "execution_count": null,
   "id": "5beec6fc-23b0-4ef0-808e-d55bbb836334",
   "metadata": {},
   "outputs": [],
   "source": [
    "# validation_0-rmse:0.75318 - 0.6\n",
    "# validation_0-rmse:0.74838 - 0.4"
   ]
  },
  {
   "cell_type": "code",
   "execution_count": 37,
   "id": "a2d1dc86-d2f1-47c9-98fc-ce3913c6bb36",
   "metadata": {},
   "outputs": [],
   "source": [
    "reg = best_xgb_model.get_booster()"
   ]
  },
  {
   "cell_type": "code",
   "execution_count": 39,
   "id": "057c2d40-3484-4ca0-8f97-e5a0e8b00dfd",
   "metadata": {},
   "outputs": [],
   "source": [
    "del train_X, train_y"
   ]
  },
  {
   "cell_type": "code",
   "execution_count": 40,
   "id": "c098deeb-552b-486a-8b74-e90934ef28fb",
   "metadata": {},
   "outputs": [
    {
     "name": "stdout",
     "output_type": "stream",
     "text": [
      "0.7456722443825761\n"
     ]
    }
   ],
   "source": [
    "from sklearn.metrics import mean_squared_error\n",
    "y_pred = best_xgb_model.predict(test_X)\n",
    "print(mean_squared_error(test_y, y_pred, squared=False))"
   ]
  },
  {
   "cell_type": "code",
   "execution_count": 41,
   "id": "0c4e7382-f61d-4ef6-be3a-c5349d837776",
   "metadata": {},
   "outputs": [],
   "source": [
    "\n",
    "del test_X, test_y"
   ]
  },
  {
   "cell_type": "code",
   "execution_count": 42,
   "id": "e1a39797-e783-40d3-9b21-e6a6470912c3",
   "metadata": {},
   "outputs": [
    {
     "data": {
      "text/plain": [
       "<Axes: title={'center': 'Feature importance'}, xlabel='F score', ylabel='Features'>"
      ]
     },
     "execution_count": 42,
     "metadata": {},
     "output_type": "execute_result"
    },
    {
     "data": {
      "image/png": "[encoded data removed]",
      "text/plain": [
       "<Figure size 640x480 with 1 Axes>"
      ]
     },
     "metadata": {},
     "output_type": "display_data"
    }
   ],
   "source": [
    "xgboost.plot_importance(reg)"
   ]
  },
  {
   "cell_type": "code",
   "execution_count": 43,
   "id": "4391e21b-4e13-49c5-86d1-6ddb12970d45",
   "metadata": {},
   "outputs": [
    {
     "name": "stderr",
     "output_type": "stream",
     "text": [
      "100%|█████████████████████████████████████████████████████████████████████████████████████████████████████████████████████████████████████████████████████████████████████████████████████████| 20596/20596 [07:29<00:00, 45.85it/s]\n"
     ]
    }
   ],
   "source": [
    "import os\n",
    "CSV_DIR = \"updated_test\"\n",
    "assert len(os.listdir(\"updated_test\")) == len(os.listdir(\"test_csv\"))\n",
    "eval_X, eval_y, names, indexes = load_train_data(\"updated_test\", \"test_csv\", os.listdir(\"updated_test\"), return_indexes=True)"
   ]
  },
  {
   "cell_type": "code",
   "execution_count": null,
   "id": "5f5d6089-d51b-4f2e-8946-4b668be1276d",
   "metadata": {},
   "outputs": [],
   "source": []
  },
  {
   "cell_type": "code",
   "execution_count": null,
   "id": "082f81bb-853c-4e77-9284-c87d166d91e7",
   "metadata": {},
   "outputs": [],
   "source": []
  },
  {
   "cell_type": "code",
   "execution_count": 44,
   "id": "6bfea5f0-f564-477b-a17b-3558873644c6",
   "metadata": {},
   "outputs": [
    {
     "name": "stdout",
     "output_type": "stream",
     "text": [
      "0.7594369434876017\n"
     ]
    }
   ],
   "source": [
    "y_pred = best_xgb_model.predict(eval_X)\n",
    "print(mean_squared_error(eval_y[~np.isnan(eval_y)], y_pred[~np.isnan(eval_y)], squared=False))"
   ]
  },
  {
   "cell_type": "code",
   "execution_count": 45,
   "id": "f76c9233-8e65-43cf-be4e-bac7f5fe3976",
   "metadata": {},
   "outputs": [],
   "source": [
    "del eval_X"
   ]
  },
  {
   "cell_type": "code",
   "execution_count": 46,
   "id": "395b6464-d6cd-4db3-990c-f0835e2e0a9e",
   "metadata": {},
   "outputs": [],
   "source": [
    "indexes['x1'] = y_pred"
   ]
  },
  {
   "cell_type": "code",
   "execution_count": null,
   "id": "2f67bc8b-21e9-4f3e-b139-9bcb3eb10f2a",
   "metadata": {},
   "outputs": [],
   "source": []
  },
  {
   "cell_type": "code",
   "execution_count": 47,
   "id": "593ba0a3-ca33-4212-9e40-be2a85711c64",
   "metadata": {},
   "outputs": [],
   "source": [
    "submition = pd.read_csv(\"/home/malchul/work/recsys/hackaton/data/submission.csv\")\n"
   ]
  },
  {
   "cell_type": "code",
   "execution_count": 48,
   "id": "5be6f9a6-7e86-43f6-9318-909c1db0921b",
   "metadata": {},
   "outputs": [
    {
     "data": {
      "text/html": [
       "<div>\n",
       "<style scoped>\n",
       "    .dataframe tbody tr th:only-of-type {\n",
       "        vertical-align: middle;\n",
       "    }\n",
       "\n",
       "    .dataframe tbody tr th {\n",
       "        vertical-align: top;\n",
       "    }\n",
       "\n",
       "    .dataframe thead th {\n",
       "        text-align: right;\n",
       "    }\n",
       "</style>\n",
       "<table border=\"1\" class=\"dataframe\">\n",
       "  <thead>\n",
       "    <tr style=\"text-align: right;\">\n",
       "      <th></th>\n",
       "      <th>ego_id</th>\n",
       "      <th>u</th>\n",
       "      <th>v</th>\n",
       "      <th>x1</th>\n",
       "    </tr>\n",
       "  </thead>\n",
       "  <tbody>\n",
       "    <tr>\n",
       "      <th>0</th>\n",
       "      <td>8</td>\n",
       "      <td>0</td>\n",
       "      <td>93</td>\n",
       "      <td>0.000000</td>\n",
       "    </tr>\n",
       "    <tr>\n",
       "      <th>1</th>\n",
       "      <td>8</td>\n",
       "      <td>0</td>\n",
       "      <td>143</td>\n",
       "      <td>0.000000</td>\n",
       "    </tr>\n",
       "    <tr>\n",
       "      <th>2</th>\n",
       "      <td>8</td>\n",
       "      <td>0</td>\n",
       "      <td>151</td>\n",
       "      <td>1.606742</td>\n",
       "    </tr>\n",
       "    <tr>\n",
       "      <th>3</th>\n",
       "      <td>8</td>\n",
       "      <td>1</td>\n",
       "      <td>24</td>\n",
       "      <td>0.026496</td>\n",
       "    </tr>\n",
       "    <tr>\n",
       "      <th>4</th>\n",
       "      <td>8</td>\n",
       "      <td>5</td>\n",
       "      <td>4</td>\n",
       "      <td>0.159857</td>\n",
       "    </tr>\n",
       "    <tr>\n",
       "      <th>...</th>\n",
       "      <td>...</td>\n",
       "      <td>...</td>\n",
       "      <td>...</td>\n",
       "      <td>...</td>\n",
       "    </tr>\n",
       "    <tr>\n",
       "      <th>810971</th>\n",
       "      <td>1709396984676</td>\n",
       "      <td>73</td>\n",
       "      <td>23</td>\n",
       "      <td>1.562170</td>\n",
       "    </tr>\n",
       "    <tr>\n",
       "      <th>810972</th>\n",
       "      <td>1709396984676</td>\n",
       "      <td>74</td>\n",
       "      <td>68</td>\n",
       "      <td>0.454210</td>\n",
       "    </tr>\n",
       "    <tr>\n",
       "      <th>810973</th>\n",
       "      <td>1709396984676</td>\n",
       "      <td>77</td>\n",
       "      <td>28</td>\n",
       "      <td>0.078504</td>\n",
       "    </tr>\n",
       "    <tr>\n",
       "      <th>810974</th>\n",
       "      <td>1709396984676</td>\n",
       "      <td>79</td>\n",
       "      <td>38</td>\n",
       "      <td>0.981812</td>\n",
       "    </tr>\n",
       "    <tr>\n",
       "      <th>810975</th>\n",
       "      <td>1709396984676</td>\n",
       "      <td>81</td>\n",
       "      <td>92</td>\n",
       "      <td>3.417851</td>\n",
       "    </tr>\n",
       "  </tbody>\n",
       "</table>\n",
       "<p>810976 rows × 4 columns</p>\n",
       "</div>"
      ],
      "text/plain": [
       "               ego_id   u    v        x1\n",
       "0                   8   0   93  0.000000\n",
       "1                   8   0  143  0.000000\n",
       "2                   8   0  151  1.606742\n",
       "3                   8   1   24  0.026496\n",
       "4                   8   5    4  0.159857\n",
       "...               ...  ..  ...       ...\n",
       "810971  1709396984676  73   23  1.562170\n",
       "810972  1709396984676  74   68  0.454210\n",
       "810973  1709396984676  77   28  0.078504\n",
       "810974  1709396984676  79   38  0.981812\n",
       "810975  1709396984676  81   92  3.417851\n",
       "\n",
       "[810976 rows x 4 columns]"
      ]
     },
     "execution_count": 48,
     "metadata": {},
     "output_type": "execute_result"
    }
   ],
   "source": [
    "submition"
   ]
  },
  {
   "cell_type": "code",
   "execution_count": 49,
   "id": "4f106b64-3e95-4338-b8a5-a2eba2b5af2d",
   "metadata": {},
   "outputs": [
    {
     "data": {
      "text/html": [
       "<div>\n",
       "<style scoped>\n",
       "    .dataframe tbody tr th:only-of-type {\n",
       "        vertical-align: middle;\n",
       "    }\n",
       "\n",
       "    .dataframe tbody tr th {\n",
       "        vertical-align: top;\n",
       "    }\n",
       "\n",
       "    .dataframe thead th {\n",
       "        text-align: right;\n",
       "    }\n",
       "</style>\n",
       "<table border=\"1\" class=\"dataframe\">\n",
       "  <thead>\n",
       "    <tr style=\"text-align: right;\">\n",
       "      <th></th>\n",
       "      <th>ego_id</th>\n",
       "      <th>u</th>\n",
       "      <th>v</th>\n",
       "      <th>x1_x</th>\n",
       "      <th>x1_y</th>\n",
       "    </tr>\n",
       "  </thead>\n",
       "  <tbody>\n",
       "    <tr>\n",
       "      <th>0</th>\n",
       "      <td>8</td>\n",
       "      <td>0</td>\n",
       "      <td>93</td>\n",
       "      <td>0.000000</td>\n",
       "      <td>0.084316</td>\n",
       "    </tr>\n",
       "    <tr>\n",
       "      <th>1</th>\n",
       "      <td>8</td>\n",
       "      <td>0</td>\n",
       "      <td>143</td>\n",
       "      <td>0.000000</td>\n",
       "      <td>0.888646</td>\n",
       "    </tr>\n",
       "    <tr>\n",
       "      <th>2</th>\n",
       "      <td>8</td>\n",
       "      <td>0</td>\n",
       "      <td>151</td>\n",
       "      <td>1.606742</td>\n",
       "      <td>3.352593</td>\n",
       "    </tr>\n",
       "    <tr>\n",
       "      <th>3</th>\n",
       "      <td>8</td>\n",
       "      <td>1</td>\n",
       "      <td>24</td>\n",
       "      <td>0.026496</td>\n",
       "      <td>0.256128</td>\n",
       "    </tr>\n",
       "    <tr>\n",
       "      <th>4</th>\n",
       "      <td>8</td>\n",
       "      <td>5</td>\n",
       "      <td>4</td>\n",
       "      <td>0.159857</td>\n",
       "      <td>0.339661</td>\n",
       "    </tr>\n",
       "    <tr>\n",
       "      <th>...</th>\n",
       "      <td>...</td>\n",
       "      <td>...</td>\n",
       "      <td>...</td>\n",
       "      <td>...</td>\n",
       "      <td>...</td>\n",
       "    </tr>\n",
       "    <tr>\n",
       "      <th>811144</th>\n",
       "      <td>1709396984676</td>\n",
       "      <td>73</td>\n",
       "      <td>23</td>\n",
       "      <td>1.562170</td>\n",
       "      <td>0.746095</td>\n",
       "    </tr>\n",
       "    <tr>\n",
       "      <th>811145</th>\n",
       "      <td>1709396984676</td>\n",
       "      <td>74</td>\n",
       "      <td>68</td>\n",
       "      <td>0.454210</td>\n",
       "      <td>0.439320</td>\n",
       "    </tr>\n",
       "    <tr>\n",
       "      <th>811146</th>\n",
       "      <td>1709396984676</td>\n",
       "      <td>77</td>\n",
       "      <td>28</td>\n",
       "      <td>0.078504</td>\n",
       "      <td>0.764945</td>\n",
       "    </tr>\n",
       "    <tr>\n",
       "      <th>811147</th>\n",
       "      <td>1709396984676</td>\n",
       "      <td>79</td>\n",
       "      <td>38</td>\n",
       "      <td>0.981812</td>\n",
       "      <td>0.615605</td>\n",
       "    </tr>\n",
       "    <tr>\n",
       "      <th>811148</th>\n",
       "      <td>1709396984676</td>\n",
       "      <td>81</td>\n",
       "      <td>92</td>\n",
       "      <td>3.417851</td>\n",
       "      <td>3.340415</td>\n",
       "    </tr>\n",
       "  </tbody>\n",
       "</table>\n",
       "<p>811149 rows × 5 columns</p>\n",
       "</div>"
      ],
      "text/plain": [
       "               ego_id   u    v      x1_x      x1_y\n",
       "0                   8   0   93  0.000000  0.084316\n",
       "1                   8   0  143  0.000000  0.888646\n",
       "2                   8   0  151  1.606742  3.352593\n",
       "3                   8   1   24  0.026496  0.256128\n",
       "4                   8   5    4  0.159857  0.339661\n",
       "...               ...  ..  ...       ...       ...\n",
       "811144  1709396984676  73   23  1.562170  0.746095\n",
       "811145  1709396984676  74   68  0.454210  0.439320\n",
       "811146  1709396984676  77   28  0.078504  0.764945\n",
       "811147  1709396984676  79   38  0.981812  0.615605\n",
       "811148  1709396984676  81   92  3.417851  3.340415\n",
       "\n",
       "[811149 rows x 5 columns]"
      ]
     },
     "execution_count": 49,
     "metadata": {},
     "output_type": "execute_result"
    }
   ],
   "source": [
    "our_submition = submition.merge(indexes, on=['ego_id', 'u', 'v'], how='left')\n",
    "our_submition"
   ]
  },
  {
   "cell_type": "code",
   "execution_count": 50,
   "id": "6bfe408d-f582-4557-81f9-b829849f7941",
   "metadata": {},
   "outputs": [
    {
     "data": {
      "text/html": [
       "<div>\n",
       "<style scoped>\n",
       "    .dataframe tbody tr th:only-of-type {\n",
       "        vertical-align: middle;\n",
       "    }\n",
       "\n",
       "    .dataframe tbody tr th {\n",
       "        vertical-align: top;\n",
       "    }\n",
       "\n",
       "    .dataframe thead th {\n",
       "        text-align: right;\n",
       "    }\n",
       "</style>\n",
       "<table border=\"1\" class=\"dataframe\">\n",
       "  <thead>\n",
       "    <tr style=\"text-align: right;\">\n",
       "      <th></th>\n",
       "      <th>ego_id</th>\n",
       "      <th>u</th>\n",
       "      <th>v</th>\n",
       "      <th>x1</th>\n",
       "    </tr>\n",
       "  </thead>\n",
       "  <tbody>\n",
       "    <tr>\n",
       "      <th>0</th>\n",
       "      <td>8</td>\n",
       "      <td>0</td>\n",
       "      <td>93</td>\n",
       "      <td>0.084316</td>\n",
       "    </tr>\n",
       "    <tr>\n",
       "      <th>1</th>\n",
       "      <td>8</td>\n",
       "      <td>0</td>\n",
       "      <td>143</td>\n",
       "      <td>0.888646</td>\n",
       "    </tr>\n",
       "    <tr>\n",
       "      <th>2</th>\n",
       "      <td>8</td>\n",
       "      <td>0</td>\n",
       "      <td>151</td>\n",
       "      <td>3.352593</td>\n",
       "    </tr>\n",
       "    <tr>\n",
       "      <th>3</th>\n",
       "      <td>8</td>\n",
       "      <td>1</td>\n",
       "      <td>24</td>\n",
       "      <td>0.256128</td>\n",
       "    </tr>\n",
       "    <tr>\n",
       "      <th>4</th>\n",
       "      <td>8</td>\n",
       "      <td>5</td>\n",
       "      <td>4</td>\n",
       "      <td>0.339661</td>\n",
       "    </tr>\n",
       "    <tr>\n",
       "      <th>...</th>\n",
       "      <td>...</td>\n",
       "      <td>...</td>\n",
       "      <td>...</td>\n",
       "      <td>...</td>\n",
       "    </tr>\n",
       "    <tr>\n",
       "      <th>811144</th>\n",
       "      <td>1709396984676</td>\n",
       "      <td>73</td>\n",
       "      <td>23</td>\n",
       "      <td>0.746095</td>\n",
       "    </tr>\n",
       "    <tr>\n",
       "      <th>811145</th>\n",
       "      <td>1709396984676</td>\n",
       "      <td>74</td>\n",
       "      <td>68</td>\n",
       "      <td>0.439320</td>\n",
       "    </tr>\n",
       "    <tr>\n",
       "      <th>811146</th>\n",
       "      <td>1709396984676</td>\n",
       "      <td>77</td>\n",
       "      <td>28</td>\n",
       "      <td>0.764945</td>\n",
       "    </tr>\n",
       "    <tr>\n",
       "      <th>811147</th>\n",
       "      <td>1709396984676</td>\n",
       "      <td>79</td>\n",
       "      <td>38</td>\n",
       "      <td>0.615605</td>\n",
       "    </tr>\n",
       "    <tr>\n",
       "      <th>811148</th>\n",
       "      <td>1709396984676</td>\n",
       "      <td>81</td>\n",
       "      <td>92</td>\n",
       "      <td>3.340415</td>\n",
       "    </tr>\n",
       "  </tbody>\n",
       "</table>\n",
       "<p>810976 rows × 4 columns</p>\n",
       "</div>"
      ],
      "text/plain": [
       "               ego_id   u    v        x1\n",
       "0                   8   0   93  0.084316\n",
       "1                   8   0  143  0.888646\n",
       "2                   8   0  151  3.352593\n",
       "3                   8   1   24  0.256128\n",
       "4                   8   5    4  0.339661\n",
       "...               ...  ..  ...       ...\n",
       "811144  1709396984676  73   23  0.746095\n",
       "811145  1709396984676  74   68  0.439320\n",
       "811146  1709396984676  77   28  0.764945\n",
       "811147  1709396984676  79   38  0.615605\n",
       "811148  1709396984676  81   92  3.340415\n",
       "\n",
       "[810976 rows x 4 columns]"
      ]
     },
     "execution_count": 50,
     "metadata": {},
     "output_type": "execute_result"
    }
   ],
   "source": [
    "our_submition = our_submition.drop('x1_x', axis=1).rename(columns={\"x1_y\":\"x1\"})\n",
    "our_submition = our_submition[~our_submition[['ego_id', 'u', 'v']].duplicated(keep=\"first\")]\n",
    "our_submition"
   ]
  },
  {
   "cell_type": "code",
   "execution_count": 51,
   "id": "6b907ef6-fb69-45a7-91b3-90ca13fe1e9e",
   "metadata": {},
   "outputs": [],
   "source": [
    "our_submition.to_csv(\"our_submition_new_sample.csv\")"
   ]
  },
  {
   "cell_type": "code",
   "execution_count": 52,
   "id": "cc2d3ed1-8f68-42db-93f5-51ed9b79d567",
   "metadata": {},
   "outputs": [
    {
     "data": {
      "text/html": [
       "<div>\n",
       "<style scoped>\n",
       "    .dataframe tbody tr th:only-of-type {\n",
       "        vertical-align: middle;\n",
       "    }\n",
       "\n",
       "    .dataframe tbody tr th {\n",
       "        vertical-align: top;\n",
       "    }\n",
       "\n",
       "    .dataframe thead th {\n",
       "        text-align: right;\n",
       "    }\n",
       "</style>\n",
       "<table border=\"1\" class=\"dataframe\">\n",
       "  <thead>\n",
       "    <tr style=\"text-align: right;\">\n",
       "      <th></th>\n",
       "      <th>ego_id</th>\n",
       "      <th>u</th>\n",
       "      <th>v</th>\n",
       "      <th>x1</th>\n",
       "    </tr>\n",
       "  </thead>\n",
       "  <tbody>\n",
       "    <tr>\n",
       "      <th>0</th>\n",
       "      <td>8</td>\n",
       "      <td>0</td>\n",
       "      <td>93</td>\n",
       "      <td>0.084316</td>\n",
       "    </tr>\n",
       "    <tr>\n",
       "      <th>1</th>\n",
       "      <td>8</td>\n",
       "      <td>0</td>\n",
       "      <td>143</td>\n",
       "      <td>0.888646</td>\n",
       "    </tr>\n",
       "    <tr>\n",
       "      <th>2</th>\n",
       "      <td>8</td>\n",
       "      <td>0</td>\n",
       "      <td>151</td>\n",
       "      <td>3.352593</td>\n",
       "    </tr>\n",
       "    <tr>\n",
       "      <th>3</th>\n",
       "      <td>8</td>\n",
       "      <td>1</td>\n",
       "      <td>24</td>\n",
       "      <td>0.256128</td>\n",
       "    </tr>\n",
       "    <tr>\n",
       "      <th>4</th>\n",
       "      <td>8</td>\n",
       "      <td>5</td>\n",
       "      <td>4</td>\n",
       "      <td>0.339661</td>\n",
       "    </tr>\n",
       "    <tr>\n",
       "      <th>...</th>\n",
       "      <td>...</td>\n",
       "      <td>...</td>\n",
       "      <td>...</td>\n",
       "      <td>...</td>\n",
       "    </tr>\n",
       "    <tr>\n",
       "      <th>811144</th>\n",
       "      <td>1709396984676</td>\n",
       "      <td>73</td>\n",
       "      <td>23</td>\n",
       "      <td>0.746095</td>\n",
       "    </tr>\n",
       "    <tr>\n",
       "      <th>811145</th>\n",
       "      <td>1709396984676</td>\n",
       "      <td>74</td>\n",
       "      <td>68</td>\n",
       "      <td>0.439320</td>\n",
       "    </tr>\n",
       "    <tr>\n",
       "      <th>811146</th>\n",
       "      <td>1709396984676</td>\n",
       "      <td>77</td>\n",
       "      <td>28</td>\n",
       "      <td>0.764945</td>\n",
       "    </tr>\n",
       "    <tr>\n",
       "      <th>811147</th>\n",
       "      <td>1709396984676</td>\n",
       "      <td>79</td>\n",
       "      <td>38</td>\n",
       "      <td>0.615605</td>\n",
       "    </tr>\n",
       "    <tr>\n",
       "      <th>811148</th>\n",
       "      <td>1709396984676</td>\n",
       "      <td>81</td>\n",
       "      <td>92</td>\n",
       "      <td>3.340415</td>\n",
       "    </tr>\n",
       "  </tbody>\n",
       "</table>\n",
       "<p>810976 rows × 4 columns</p>\n",
       "</div>"
      ],
      "text/plain": [
       "               ego_id   u    v        x1\n",
       "0                   8   0   93  0.084316\n",
       "1                   8   0  143  0.888646\n",
       "2                   8   0  151  3.352593\n",
       "3                   8   1   24  0.256128\n",
       "4                   8   5    4  0.339661\n",
       "...               ...  ..  ...       ...\n",
       "811144  1709396984676  73   23  0.746095\n",
       "811145  1709396984676  74   68  0.439320\n",
       "811146  1709396984676  77   28  0.764945\n",
       "811147  1709396984676  79   38  0.615605\n",
       "811148  1709396984676  81   92  3.340415\n",
       "\n",
       "[810976 rows x 4 columns]"
      ]
     },
     "execution_count": 52,
     "metadata": {},
     "output_type": "execute_result"
    }
   ],
   "source": [
    "our_submition"
   ]
  },
  {
   "cell_type": "code",
   "execution_count": null,
   "id": "7e821c2b-2d13-436c-9cfe-fedbc7c2fb0f",
   "metadata": {},
   "outputs": [],
   "source": []
  }
 ],
 "metadata": {
  "kernelspec": {
   "display_name": "Python 3 (ipykernel)",
   "language": "python",
   "name": "python3"
  },
  "language_info": {
   "codemirror_mode": {
    "name": "ipython",
    "version": 3
   },
   "file_extension": ".py",
   "mimetype": "text/x-python",
   "name": "python",
   "nbconvert_exporter": "python",
   "pygments_lexer": "ipython3",
   "version": "3.8.10"
  }
 },
 "nbformat": 4,
 "nbformat_minor": 5
}
