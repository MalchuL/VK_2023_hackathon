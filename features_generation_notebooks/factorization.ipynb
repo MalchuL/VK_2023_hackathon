{
 "cells": [
  {
   "cell_type": "code",
   "execution_count": null,
   "id": "3e05d304-22c4-42b4-b23b-41f8588b498a",
   "metadata": {},
   "outputs": [],
   "source": []
  },
  {
   "cell_type": "code",
   "execution_count": 1,
   "id": "849c37af-3f39-4036-89bf-9b789c46c5b6",
   "metadata": {},
   "outputs": [],
   "source": [
    "import networkx as nx\n",
    "import pandas as pd\n",
    "from tqdm import tqdm\n",
    "import os"
   ]
  },
  {
   "cell_type": "code",
   "execution_count": 2,
   "id": "1f79241e-8138-4bf6-99d7-7b910510d6e7",
   "metadata": {},
   "outputs": [],
   "source": [
    "TRAIN_PATH = '/home/malchul/work/recsys/hackaton/data/train.csv'\n",
    "TEST_PATH = '/home/malchul/work/recsys/hackaton/data/test.csv'"
   ]
  },
  {
   "cell_type": "code",
   "execution_count": 3,
   "id": "9b228eba-0991-4683-a9c3-dbf74ae1581d",
   "metadata": {},
   "outputs": [],
   "source": [
    "train_df = pd.read_csv(TRAIN_PATH)"
   ]
  },
  {
   "cell_type": "code",
   "execution_count": null,
   "id": "fbaa3090-fc94-4888-aa09-9db929410b64",
   "metadata": {},
   "outputs": [],
   "source": [
    "test_df = pd.read_csv(TEST_PATH)"
   ]
  },
  {
   "cell_type": "code",
   "execution_count": 21,
   "id": "e20a797f-1242-40bd-8ed5-692d56545f51",
   "metadata": {},
   "outputs": [],
   "source": [
    "df = train_df\n",
    "unique_ego_ids = sorted(df.ego_id.unique())\n",
    "out_folder = \"factorization_train_2\"\n",
    "os.makedirs(out_folder, exist_ok=True)"
   ]
  },
  {
   "cell_type": "code",
   "execution_count": null,
   "id": "7d41c11e-f370-451e-927a-689fd6b9387a",
   "metadata": {
    "scrolled": true
   },
   "outputs": [
    {
     "name": "stderr",
     "output_type": "stream",
     "text": [
      " 20%|████████████████████████████████████▋                                                                                                                                                  | 12368/61786 [25:08<3:12:10,  4.29it/s]"
     ]
    }
   ],
   "source": [
    "import timeit\n",
    "import time\n",
    "from scipy.sparse import csr_matrix, coo_array\n",
    "import implicit\n",
    "import numpy as np\n",
    "import logging\n",
    "import pickle\n",
    "logging.basicConfig(level=logging.INFO)\n",
    "for ego_id in tqdm(unique_ego_ids):\n",
    "    ego_graph_df = df[df.ego_id == ego_id]\n",
    "    ego_graph_df = ego_graph_df[~pd.isna(ego_graph_df)]\n",
    "    shape_axis = max(ego_graph_df.u.max(), ego_graph_df.v.max()) + 1\n",
    "    base_ego_graph_df = ego_graph_df\n",
    "    ego_graph_df = ego_graph_df.sample(frac=0.8) \n",
    "    # Giving rows and columns values\n",
    "    rows = ego_graph_df.u.to_numpy()\n",
    "    columns = ego_graph_df.v.to_numpy()\n",
    "    arrayData = ego_graph_df.x1.to_numpy()\n",
    "    \n",
    "    sparse_frienship = csr_matrix((arrayData, (rows, columns)), shape = (shape_axis, shape_axis))\n",
    "\n",
    "    # initialize a model\n",
    "    factors = 6\n",
    "    model = implicit.als.AlternatingLeastSquares(factors=factors, regularization=0.1, alpha=2, iterations=15)\n",
    "    \n",
    "    \n",
    "    # train the model on a sparse matrix of user/item/confidence weights\n",
    "    model.fit(sparse_frienship, show_progress=False)\n",
    "    model = model.to_cpu()\n",
    "    u_vector = model.user_factors\n",
    "    v_vector = model.item_factors\n",
    "\n",
    "    feats = np.concatenate([u_vector, v_vector], axis=1)\n",
    "    assert feats.shape[1] == 2 * factors\n",
    "    \n",
    "    score = u_vector.dot(v_vector.T)\n",
    "    \n",
    "    # rows = base_ego_graph_df.u.to_numpy()\n",
    "    # columns = base_ego_graph_df.v.to_numpy()\n",
    "    # arrayData = base_ego_graph_df.x1.to_numpy()\n",
    "    # sparse_frienship = csr_matrix((arrayData, (rows, columns)), shape = (shape_axis, shape_axis))\n",
    "    \n",
    "    # print((u_vector.dot(v_vector.T)).max(), sparse_frienship.max())\n",
    "    # print(np.mean(np.abs((u_vector.dot(v_vector.T) * (sparse_frienship > 0) - sparse_frienship))[(sparse_frienship > 0).todense()]), np.sum((sparse_frienship > 0)), np.sum(sparse_frienship == 0))\n",
    "    # print(np.abs((u_vector.dot(v_vector.T))[(sparse_frienship > 0).todense()]))\n",
    "    # print(np.abs(sparse_frienship)[(sparse_frienship > 0).todense()])\n",
    "    # break\n",
    "    import pickle\n",
    "    data = {\n",
    "        'scores': score,\n",
    "        'u': u_vector,\n",
    "        'v': v_vector\n",
    "    }\n",
    "    \n",
    "    with open(os.path.join(out_folder, f'{ego_id}.pickle'), 'wb') as f:\n",
    "        pickle.dump(data, f)\n",
    "    "
   ]
  },
  {
   "cell_type": "code",
   "execution_count": null,
   "id": "61be3196-65ff-4f9a-b760-3fae870ad137",
   "metadata": {},
   "outputs": [],
   "source": []
  }
 ],
 "metadata": {
  "kernelspec": {
   "display_name": "Python 3 (ipykernel)",
   "language": "python",
   "name": "python3"
  },
  "language_info": {
   "codemirror_mode": {
    "name": "ipython",
    "version": 3
   },
   "file_extension": ".py",
   "mimetype": "text/x-python",
   "name": "python",
   "nbconvert_exporter": "python",
   "pygments_lexer": "ipython3",
   "version": "3.8.10"
  }
 },
 "nbformat": 4,
 "nbformat_minor": 5
}
