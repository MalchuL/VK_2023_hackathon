{
 "cells": [
  {
   "cell_type": "code",
   "execution_count": 2,
   "metadata": {},
   "outputs": [],
   "source": [
    "import pandas as pd\n",
    "import networkx as nx\n",
    "import matplotlib.pyplot as plt\n",
    "from natsort import natsorted\n",
    "from tqdm import tqdm\n",
    "import os\n",
    "import numpy as np"
   ]
  },
  {
   "cell_type": "code",
   "execution_count": null,
   "metadata": {},
   "outputs": [],
   "source": [
    "!conda list"
   ]
  },
  {
   "cell_type": "code",
   "execution_count": 3,
   "metadata": {},
   "outputs": [
    {
     "name": "stdout",
     "output_type": "stream",
     "text": [
      "CPU times: total: 1min 58s\n",
      "Wall time: 2min 20s\n"
     ]
    }
   ],
   "source": [
    "%%time\n",
    "\n",
    "train = pd.read_csv(\"./train_dataset_VK/train.csv\")"
   ]
  },
  {
   "cell_type": "code",
   "execution_count": 19,
   "metadata": {},
   "outputs": [
    {
     "data": {
      "text/plain": [
       "61786"
      ]
     },
     "execution_count": 19,
     "metadata": {},
     "output_type": "execute_result"
    }
   ],
   "source": []
  },
  {
   "cell_type": "code",
   "execution_count": 9,
   "metadata": {},
   "outputs": [
    {
     "name": "stdout",
     "output_type": "stream",
     "text": [
      "CPU times: total: 9.05 s\n",
      "Wall time: 14.8 s\n"
     ]
    }
   ],
   "source": [
    "%%time\n",
    "\n",
    "attr = pd.read_csv(\"./train_dataset_VK/attr.csv\")"
   ]
  },
  {
   "cell_type": "code",
   "execution_count": null,
   "metadata": {},
   "outputs": [],
   "source": [
    "def draw_ego_graph(dataframe, ego_id, seed=123):\n",
    "    pd_ego_graph = dataframe[dataframe.ego_id == ego_id]\n",
    "    ego_graph = nx.from_pandas_edgelist(pd_ego_graph, source='u', target='v', edge_attr=['x1', 'x2', 'x3'])\n",
    "    node_and_degree = ego_graph.degree()\n",
    "    (largest_hub, degree) = sorted(node_and_degree, key=itemgetter(1))[-1]\n",
    "    \n",
    "    # Create ego graph of main hub\n",
    "    hub_ego = nx.ego_graph(ego_graph, largest_hub)\n",
    "    \n",
    "    # Draw graph\n",
    "    pos = nx.spring_layout(hub_ego, seed=seed)  # Seed layout for reproducibility\n",
    "    nx.draw(hub_ego, pos, node_color=\"b\", node_size=50, with_labels=True)\n",
    "\n",
    "    # Draw ego as large and red\n",
    "    options = {\"node_size\": 300, \"node_color\": \"r\"}\n",
    "    nx.draw_networkx_nodes(hub_ego, pos, nodelist=[largest_hub], **options)\n",
    "    plt.show()"
   ]
  },
  {
   "cell_type": "code",
   "execution_count": 26,
   "metadata": {},
   "outputs": [],
   "source": [
    "def add_new_features_and_dump_to_csv(df, attr_df, fill_value=-1, save_folder='./output'): \n",
    "    os.makedirs(save_folder, exist_ok=True)\n",
    "    ego_idxs = sorted(df.ego_id.unique())\n",
    "    columns_to_fill = ['city_id', 'city_id_v', 'school', 'school_v', 'university', 'university_v']\n",
    "\n",
    "    for idx in tqdm(ego_idxs):\n",
    "        \n",
    "        curr_train_graph = df[df.ego_id == idx]\n",
    "        curr_attr_graph = attr_df[attr_df.ego_id == idx]\n",
    "\n",
    "        d = curr_train_graph.merge(curr_attr_graph, on=\"u\", how=\"left\", suffixes=(\"\",\"_u\")).merge(curr_attr_graph.rename(columns={\"u\": \"v\"}), on=\"v\", how=\"left\", suffixes=(\"\",\"_v\"))\n",
    "  \n",
    "        \n",
    "        d[columns_to_fill] = d[columns_to_fill].fillna(value=-1)\n",
    "        \n",
    "        d = d.astype({'city_id': 'int', 'city_id_v': 'int', 'school': 'int', 'school_v': 'int', 'university': 'int', 'university_v': 'int'})\n",
    "        \n",
    "        #############\n",
    "        city_id_u = d.city_id.copy()\n",
    "#         city_id_u[city_id_u == -1] = np.nan\n",
    "        city = (city_id_u == d.city_id_v) & (city_id_u >= 0)\n",
    "#         print(city_id_u)\n",
    "        d[\"same_city\"] = city\n",
    "        d[\"is_city_presented\"] = (d[\"city_id\"] >= 0) & (d[\"city_id_v\"] >= 0)\n",
    "        ##############\n",
    "        university_u = d.university.copy()\n",
    "#         university_u[university_u == -1] = np.nan\n",
    "        university = (university_u == d.university_v) & (university_u >= 0)\n",
    "#         print(university_u)\n",
    "        d[\"same_university\"] = university\n",
    "        d[\"is_university_presented\"] = (d[\"university\"] >= 0) & (d[\"university_v\"] >= 0)\n",
    "        ##############\n",
    "        school_u = d.school.copy()\n",
    "#         school_u[school_u == -1] = np.nan\n",
    "        school = (school_u == d.school_v) & (school_u >= 0)\n",
    "#         print(school_u)\n",
    "        d[\"same_school\"] = school\n",
    "        d[\"is_school_presented\"] = (d[\"school\"] >= 0) & (d[\"school_v\"] >= 0)\n",
    "        ##############\n",
    "        d = d.rename(columns={\"sex\": \"sex_u\", \"age\": \"age_u\"})\n",
    "        d = d[[\n",
    "               \"ego_id\",\n",
    "               \"u\",\n",
    "               \"v\",\n",
    "               \"sex_u\",\n",
    "               \"sex_v\",\n",
    "               \"age_u\",\n",
    "               \"age_v\",\n",
    "               \"is_city_presented\",\n",
    "               \"same_city\",\n",
    "               \"is_school_presented\",\n",
    "               \"same_school\",\n",
    "               \"is_university_presented\",\n",
    "               \"same_university\"\n",
    "        ]]\n",
    "\n",
    "        save_path = os.path.join(save_folder, f\"{idx}.csv\")\n",
    "\n",
    "        d.to_csv(save_path)"
   ]
  },
  {
   "cell_type": "code",
   "execution_count": 27,
   "metadata": {
    "scrolled": true
   },
   "outputs": [
    {
     "name": "stderr",
     "output_type": "stream",
     "text": [
      "100%|██████████████████████████████████████████████████████████████████████████| 61786/61786 [2:48:32<00:00,  6.11it/s]\n"
     ]
    }
   ],
   "source": [
    "add_new_features_and_dump_to_csv(train, attr, save_folder='E:/hack-ai/train_csv')"
   ]
  },
  {
   "cell_type": "code",
   "execution_count": null,
   "metadata": {},
   "outputs": [],
   "source": []
  },
  {
   "cell_type": "code",
   "execution_count": null,
   "metadata": {},
   "outputs": [],
   "source": []
  },
  {
   "cell_type": "code",
   "execution_count": null,
   "metadata": {},
   "outputs": [],
   "source": []
  },
  {
   "cell_type": "code",
   "execution_count": null,
   "metadata": {},
   "outputs": [],
   "source": []
  }
 ],
 "metadata": {
  "kernelspec": {
   "display_name": "Python 3 (ipykernel)",
   "language": "python",
   "name": "python3"
  },
  "language_info": {
   "codemirror_mode": {
    "name": "ipython",
    "version": 3
   },
   "file_extension": ".py",
   "mimetype": "text/x-python",
   "name": "python",
   "nbconvert_exporter": "python",
   "pygments_lexer": "ipython3",
   "version": "3.8.16"
  }
 },
 "nbformat": 4,
 "nbformat_minor": 4
}
